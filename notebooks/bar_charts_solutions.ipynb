{
 "cells": [
  {
   "cell_type": "markdown",
   "metadata": {},
   "source": [
    "# First Steps in Altair: Stacked, Grouped, and Layered Bar Charts"
   ]
  },
  {
   "cell_type": "markdown",
   "metadata": {},
   "source": [
    "### Using _bar charts_ to visualize a simple data set with five items for which some quantity has been measured across five categories, requires careful consideration of the questions that the visualization should help answer.\n",
    "\n",
    "This notebook is based on [Streit & Gehlenborg, \"Points of View: Bar charts and box plots\", _Nature Methods_ **11**, 117 (2014)](https://www.nature.com/articles/nmeth.2807). Here we are demonstrating how to use [Altair](https://altair-viz.github.io/index.html) to re-create some of the figures from the paper."
   ]
  },
  {
   "cell_type": "code",
   "execution_count": 15,
   "metadata": {},
   "outputs": [
    {
     "data": {
      "text/plain": [
       "RendererRegistry.enable('notebook')"
      ]
     },
     "execution_count": 15,
     "metadata": {},
     "output_type": "execute_result"
    }
   ],
   "source": [
    "import altair as alt\n",
    "\n",
    "# setup renderer for Jupyter Notebooks (not needed for Juptyer Lab)\n",
    "alt.renderers.enable('notebook')"
   ]
  },
  {
   "cell_type": "markdown",
   "metadata": {},
   "source": [
    "## Data Set\n",
    "\n",
    "This is an artificial data set that contains five items for which some quantity was measured in five categories. A real world data set with this structure could be for instance the number of users of Twitter, Facebook, YouTube, Snapchat, and Instagram in North America, South America, Europe, Africa, and Asia."
   ]
  },
  {
   "cell_type": "code",
   "execution_count": 16,
   "metadata": {},
   "outputs": [],
   "source": [
    "# generate data table used in https://www.nature.com/articles/nmeth.2807\n",
    "data = alt.Data(values = [{ 'category': 'A', 'item': '1', 'value': '6' },\n",
    "                          { 'category': 'A', 'item': '2', 'value': '8' },\n",
    "                          { 'category': 'A', 'item': '3', 'value': '12' },\n",
    "                          { 'category': 'A', 'item': '4', 'value': '20' },\n",
    "                          { 'category': 'A', 'item': '5', 'value': '22' },\n",
    "                          { 'category': 'B', 'item': '1', 'value': '29' },\n",
    "                          { 'category': 'B', 'item': '2', 'value': '27' },\n",
    "                          { 'category': 'B', 'item': '3', 'value': '21' },\n",
    "                          { 'category': 'B', 'item': '4', 'value': '18' },\n",
    "                          { 'category': 'B', 'item': '5', 'value': '5' },\n",
    "                          { 'category': 'C', 'item': '1', 'value': '18' },\n",
    "                          { 'category': 'C', 'item': '2', 'value': '17' },\n",
    "                          { 'category': 'C', 'item': '3', 'value': '16' },\n",
    "                          { 'category': 'C', 'item': '4', 'value': '16' },\n",
    "                          { 'category': 'C', 'item': '5', 'value': '15' },\n",
    "                          { 'category': 'D', 'item': '1', 'value': '30' },\n",
    "                          { 'category': 'D', 'item': '2', 'value': '12' },\n",
    "                          { 'category': 'D', 'item': '3', 'value': '3' },\n",
    "                          { 'category': 'D', 'item': '4', 'value': '9' },\n",
    "                          { 'category': 'D', 'item': '5', 'value': '20' },\n",
    "                          { 'category': 'E', 'item': '1', 'value': '7' },\n",
    "                          { 'category': 'E', 'item': '2', 'value': '12' },\n",
    "                          { 'category': 'E', 'item': '3', 'value': '19' },\n",
    "                          { 'category': 'E', 'item': '4', 'value': '7' },\n",
    "                          { 'category': 'E', 'item': '5', 'value': '1' }\n",
    "                         ])"
   ]
  },
  {
   "cell_type": "markdown",
   "metadata": {},
   "source": [
    "## Data Table\n",
    "\n",
    "An example how we can use Altair to render our data as a table."
   ]
  },
  {
   "cell_type": "code",
   "execution_count": 17,
   "metadata": {},
   "outputs": [
    {
     "data": {
      "application/javascript": [
       "var spec = {\"config\": {\"view\": {\"width\": 400, \"height\": 300}, \"mark\": {\"tooltip\": null}}, \"data\": {\"values\": [{\"category\": \"A\", \"item\": \"1\", \"value\": \"6\"}, {\"category\": \"A\", \"item\": \"2\", \"value\": \"8\"}, {\"category\": \"A\", \"item\": \"3\", \"value\": \"12\"}, {\"category\": \"A\", \"item\": \"4\", \"value\": \"20\"}, {\"category\": \"A\", \"item\": \"5\", \"value\": \"22\"}, {\"category\": \"B\", \"item\": \"1\", \"value\": \"29\"}, {\"category\": \"B\", \"item\": \"2\", \"value\": \"27\"}, {\"category\": \"B\", \"item\": \"3\", \"value\": \"21\"}, {\"category\": \"B\", \"item\": \"4\", \"value\": \"18\"}, {\"category\": \"B\", \"item\": \"5\", \"value\": \"5\"}, {\"category\": \"C\", \"item\": \"1\", \"value\": \"18\"}, {\"category\": \"C\", \"item\": \"2\", \"value\": \"17\"}, {\"category\": \"C\", \"item\": \"3\", \"value\": \"16\"}, {\"category\": \"C\", \"item\": \"4\", \"value\": \"16\"}, {\"category\": \"C\", \"item\": \"5\", \"value\": \"15\"}, {\"category\": \"D\", \"item\": \"1\", \"value\": \"30\"}, {\"category\": \"D\", \"item\": \"2\", \"value\": \"12\"}, {\"category\": \"D\", \"item\": \"3\", \"value\": \"3\"}, {\"category\": \"D\", \"item\": \"4\", \"value\": \"9\"}, {\"category\": \"D\", \"item\": \"5\", \"value\": \"20\"}, {\"category\": \"E\", \"item\": \"1\", \"value\": \"7\"}, {\"category\": \"E\", \"item\": \"2\", \"value\": \"12\"}, {\"category\": \"E\", \"item\": \"3\", \"value\": \"19\"}, {\"category\": \"E\", \"item\": \"4\", \"value\": \"7\"}, {\"category\": \"E\", \"item\": \"5\", \"value\": \"1\"}]}, \"mark\": \"text\", \"encoding\": {\"column\": {\"type\": \"nominal\", \"field\": \"item\"}, \"row\": {\"type\": \"nominal\", \"field\": \"category\"}, \"text\": {\"type\": \"quantitative\", \"field\": \"value\"}}, \"$schema\": \"https://vega.github.io/schema/vega-lite/v3.3.0.json\"};\n",
       "var opt = {};\n",
       "var type = \"vega-lite\";\n",
       "var id = \"5ccd682e-f157-4e22-948f-75c40e6fbdf1\";\n",
       "\n",
       "var output_area = this;\n",
       "\n",
       "require([\"nbextensions/jupyter-vega/index\"], function(vega) {\n",
       "  var target = document.createElement(\"div\");\n",
       "  target.id = id;\n",
       "  target.className = \"vega-embed\";\n",
       "\n",
       "  var style = document.createElement(\"style\");\n",
       "  style.textContent = [\n",
       "    \".vega-embed .error p {\",\n",
       "    \"  color: firebrick;\",\n",
       "    \"  font-size: 14px;\",\n",
       "    \"}\",\n",
       "  ].join(\"\\\\n\");\n",
       "\n",
       "  // element is a jQuery wrapped DOM element inside the output area\n",
       "  // see http://ipython.readthedocs.io/en/stable/api/generated/\\\n",
       "  // IPython.display.html#IPython.display.Javascript.__init__\n",
       "  element[0].appendChild(target);\n",
       "  element[0].appendChild(style);\n",
       "\n",
       "  vega.render(\"#\" + id, spec, type, opt, output_area);\n",
       "}, function (err) {\n",
       "  if (err.requireType !== \"scripterror\") {\n",
       "    throw(err);\n",
       "  }\n",
       "});\n"
      ],
      "text/plain": [
       "<vega.vegalite.VegaLite at 0x7f13b7256940>"
      ]
     },
     "metadata": {
      "jupyter-vega": "#5ccd682e-f157-4e22-948f-75c40e6fbdf1"
     },
     "output_type": "display_data"
    },
    {
     "data": {
      "text/plain": []
     },
     "execution_count": 17,
     "metadata": {},
     "output_type": "execute_result"
    },
    {
     "data": {
      "image/png": "[encoded data removed]"
     },
     "metadata": {
      "jupyter-vega": "#5ccd682e-f157-4e22-948f-75c40e6fbdf1"
     },
     "output_type": "display_data"
    }
   ],
   "source": [
    "alt.Chart(data).mark_text().encode(\n",
    "    alt.Row('category:N'),\n",
    "    alt.Column('item:N'),\n",
    "    alt.Text('value:Q')\n",
    ")"
   ]
  },
  {
   "cell_type": "markdown",
   "metadata": {},
   "source": [
    "## Color Palette\n",
    "\n",
    "We will be using colors from a [color palette by Okabe & Ito](http://jfly.iam.u-tokyo.ac.jp/color/) that was designed to accommodate different types of color blindness. Select colors from the palette are mapped to the categories. [Mike Mol](https://www.twitter.com/mikemol) provides the color values in [various representations](https://mikemol.github.io/technique/colorblind/2018/02/11/color-safe-palette.html)."
   ]
  },
  {
   "cell_type": "code",
   "execution_count": 18,
   "metadata": {},
   "outputs": [],
   "source": [
    "# map categories to colors from the Okabe & Ito color palette (http://jfly.iam.u-tokyo.ac.jp/color/)\n",
    "oi_scale = alt.Scale(domain=['A', 'B', 'C', 'D', 'E'],\n",
    "                  range=['#0072B2', '#D55E00', '#009E73', '#CC79A7', '#E69F00'])"
   ]
  },
  {
   "cell_type": "markdown",
   "metadata": {},
   "source": [
    "## Stacked Bar Chart\n",
    "\n",
    "**Recommendation**: Use a stacked bar chart if the focus is on comparing the overall quantities across items but you also need to illustrate contributions of each category to the total."
   ]
  },
  {
   "cell_type": "code",
   "execution_count": 19,
   "metadata": {},
   "outputs": [
    {
     "data": {
      "application/javascript": [
       "var spec = {\"config\": {\"view\": {\"width\": 400, \"height\": 300}, \"mark\": {\"tooltip\": null}}, \"data\": {\"values\": [{\"category\": \"A\", \"item\": \"1\", \"value\": \"6\"}, {\"category\": \"A\", \"item\": \"2\", \"value\": \"8\"}, {\"category\": \"A\", \"item\": \"3\", \"value\": \"12\"}, {\"category\": \"A\", \"item\": \"4\", \"value\": \"20\"}, {\"category\": \"A\", \"item\": \"5\", \"value\": \"22\"}, {\"category\": \"B\", \"item\": \"1\", \"value\": \"29\"}, {\"category\": \"B\", \"item\": \"2\", \"value\": \"27\"}, {\"category\": \"B\", \"item\": \"3\", \"value\": \"21\"}, {\"category\": \"B\", \"item\": \"4\", \"value\": \"18\"}, {\"category\": \"B\", \"item\": \"5\", \"value\": \"5\"}, {\"category\": \"C\", \"item\": \"1\", \"value\": \"18\"}, {\"category\": \"C\", \"item\": \"2\", \"value\": \"17\"}, {\"category\": \"C\", \"item\": \"3\", \"value\": \"16\"}, {\"category\": \"C\", \"item\": \"4\", \"value\": \"16\"}, {\"category\": \"C\", \"item\": \"5\", \"value\": \"15\"}, {\"category\": \"D\", \"item\": \"1\", \"value\": \"30\"}, {\"category\": \"D\", \"item\": \"2\", \"value\": \"12\"}, {\"category\": \"D\", \"item\": \"3\", \"value\": \"3\"}, {\"category\": \"D\", \"item\": \"4\", \"value\": \"9\"}, {\"category\": \"D\", \"item\": \"5\", \"value\": \"20\"}, {\"category\": \"E\", \"item\": \"1\", \"value\": \"7\"}, {\"category\": \"E\", \"item\": \"2\", \"value\": \"12\"}, {\"category\": \"E\", \"item\": \"3\", \"value\": \"19\"}, {\"category\": \"E\", \"item\": \"4\", \"value\": \"7\"}, {\"category\": \"E\", \"item\": \"5\", \"value\": \"1\"}]}, \"mark\": \"bar\", \"encoding\": {\"color\": {\"type\": \"nominal\", \"field\": \"category\", \"scale\": {\"domain\": [\"A\", \"B\", \"C\", \"D\", \"E\"], \"range\": [\"#0072B2\", \"#D55E00\", \"#009E73\", \"#CC79A7\", \"#E69F00\"]}}, \"tooltip\": [{\"type\": \"quantitative\", \"field\": \"value\"}, {\"type\": \"nominal\", \"field\": \"item\"}, {\"type\": \"nominal\", \"field\": \"category\"}], \"x\": {\"type\": \"quantitative\", \"field\": \"value\"}, \"y\": {\"type\": \"nominal\", \"field\": \"item\", \"sort\": {\"field\": \"item:N\", \"order\": \"descending\"}}}, \"$schema\": \"https://vega.github.io/schema/vega-lite/v3.3.0.json\"};\n",
       "var opt = {};\n",
       "var type = \"vega-lite\";\n",
       "var id = \"6acc5d7b-65b3-4c7e-a149-4e8ec4cdd62c\";\n",
       "\n",
       "var output_area = this;\n",
       "\n",
       "require([\"nbextensions/jupyter-vega/index\"], function(vega) {\n",
       "  var target = document.createElement(\"div\");\n",
       "  target.id = id;\n",
       "  target.className = \"vega-embed\";\n",
       "\n",
       "  var style = document.createElement(\"style\");\n",
       "  style.textContent = [\n",
       "    \".vega-embed .error p {\",\n",
       "    \"  color: firebrick;\",\n",
       "    \"  font-size: 14px;\",\n",
       "    \"}\",\n",
       "  ].join(\"\\\\n\");\n",
       "\n",
       "  // element is a jQuery wrapped DOM element inside the output area\n",
       "  // see http://ipython.readthedocs.io/en/stable/api/generated/\\\n",
       "  // IPython.display.html#IPython.display.Javascript.__init__\n",
       "  element[0].appendChild(target);\n",
       "  element[0].appendChild(style);\n",
       "\n",
       "  vega.render(\"#\" + id, spec, type, opt, output_area);\n",
       "}, function (err) {\n",
       "  if (err.requireType !== \"scripterror\") {\n",
       "    throw(err);\n",
       "  }\n",
       "});\n"
      ],
      "text/plain": [
       "<vega.vegalite.VegaLite at 0x7f13b7242a90>"
      ]
     },
     "metadata": {
      "jupyter-vega": "#6acc5d7b-65b3-4c7e-a149-4e8ec4cdd62c"
     },
     "output_type": "display_data"
    },
    {
     "data": {
      "text/plain": []
     },
     "execution_count": 19,
     "metadata": {},
     "output_type": "execute_result"
    },
    {
     "data": {
      "image/png": "[encoded data removed]"
     },
     "metadata": {
      "jupyter-vega": "#6acc5d7b-65b3-4c7e-a149-4e8ec4cdd62c"
     },
     "output_type": "display_data"
    }
   ],
   "source": [
    "# create stacked bar chart\n",
    "alt.Chart(data).mark_bar().encode(\n",
    "    alt.X('value:Q'),\n",
    "    alt.Y('item:N', sort=alt.SortField(field=\"item:N\", order='descending' )),\n",
    "    color=alt.Color('category:N',scale=oi_scale),\n",
    "    tooltip=[\n",
    "        'value:Q', 'item:N', 'category:N'\n",
    "    ]\n",
    ")"
   ]
  },
  {
   "cell_type": "markdown",
   "metadata": {},
   "source": [
    "## Grouped Bar Chart\n",
    "\n",
    "**Recommendation**: Use a grouped bar chart if the focus is on comparison of values across categories within each item, while still enabling comparisons across items.\n",
    "\n",
    "_Note that if quantities add up to the same total for each item, then a grouped bar chart is equivalent to multiple pie charts, yet a grouped bar chart affords more accurate readings of values and comparisons._"
   ]
  },
  {
   "cell_type": "code",
   "execution_count": 20,
   "metadata": {},
   "outputs": [
    {
     "data": {
      "application/javascript": [
       "var spec = {\"config\": {\"view\": {\"width\": 400, \"height\": 300}, \"mark\": {\"tooltip\": null}}, \"data\": {\"values\": [{\"category\": \"A\", \"item\": \"1\", \"value\": \"6\"}, {\"category\": \"A\", \"item\": \"2\", \"value\": \"8\"}, {\"category\": \"A\", \"item\": \"3\", \"value\": \"12\"}, {\"category\": \"A\", \"item\": \"4\", \"value\": \"20\"}, {\"category\": \"A\", \"item\": \"5\", \"value\": \"22\"}, {\"category\": \"B\", \"item\": \"1\", \"value\": \"29\"}, {\"category\": \"B\", \"item\": \"2\", \"value\": \"27\"}, {\"category\": \"B\", \"item\": \"3\", \"value\": \"21\"}, {\"category\": \"B\", \"item\": \"4\", \"value\": \"18\"}, {\"category\": \"B\", \"item\": \"5\", \"value\": \"5\"}, {\"category\": \"C\", \"item\": \"1\", \"value\": \"18\"}, {\"category\": \"C\", \"item\": \"2\", \"value\": \"17\"}, {\"category\": \"C\", \"item\": \"3\", \"value\": \"16\"}, {\"category\": \"C\", \"item\": \"4\", \"value\": \"16\"}, {\"category\": \"C\", \"item\": \"5\", \"value\": \"15\"}, {\"category\": \"D\", \"item\": \"1\", \"value\": \"30\"}, {\"category\": \"D\", \"item\": \"2\", \"value\": \"12\"}, {\"category\": \"D\", \"item\": \"3\", \"value\": \"3\"}, {\"category\": \"D\", \"item\": \"4\", \"value\": \"9\"}, {\"category\": \"D\", \"item\": \"5\", \"value\": \"20\"}, {\"category\": \"E\", \"item\": \"1\", \"value\": \"7\"}, {\"category\": \"E\", \"item\": \"2\", \"value\": \"12\"}, {\"category\": \"E\", \"item\": \"3\", \"value\": \"19\"}, {\"category\": \"E\", \"item\": \"4\", \"value\": \"7\"}, {\"category\": \"E\", \"item\": \"5\", \"value\": \"1\"}]}, \"mark\": \"bar\", \"encoding\": {\"color\": {\"type\": \"nominal\", \"field\": \"category\", \"scale\": {\"domain\": [\"A\", \"B\", \"C\", \"D\", \"E\"], \"range\": [\"#0072B2\", \"#D55E00\", \"#009E73\", \"#CC79A7\", \"#E69F00\"]}}, \"column\": {\"type\": \"nominal\", \"field\": \"item\"}, \"tooltip\": [{\"type\": \"quantitative\", \"field\": \"value\"}, {\"type\": \"nominal\", \"field\": \"item\"}], \"x\": {\"type\": \"nominal\", \"field\": \"category\"}, \"y\": {\"type\": \"quantitative\", \"field\": \"value\"}}, \"height\": 150, \"width\": 150, \"$schema\": \"https://vega.github.io/schema/vega-lite/v3.3.0.json\"};\n",
       "var opt = {};\n",
       "var type = \"vega-lite\";\n",
       "var id = \"d2d2c57f-e52c-4ca5-b03e-63d8ca9c15f9\";\n",
       "\n",
       "var output_area = this;\n",
       "\n",
       "require([\"nbextensions/jupyter-vega/index\"], function(vega) {\n",
       "  var target = document.createElement(\"div\");\n",
       "  target.id = id;\n",
       "  target.className = \"vega-embed\";\n",
       "\n",
       "  var style = document.createElement(\"style\");\n",
       "  style.textContent = [\n",
       "    \".vega-embed .error p {\",\n",
       "    \"  color: firebrick;\",\n",
       "    \"  font-size: 14px;\",\n",
       "    \"}\",\n",
       "  ].join(\"\\\\n\");\n",
       "\n",
       "  // element is a jQuery wrapped DOM element inside the output area\n",
       "  // see http://ipython.readthedocs.io/en/stable/api/generated/\\\n",
       "  // IPython.display.html#IPython.display.Javascript.__init__\n",
       "  element[0].appendChild(target);\n",
       "  element[0].appendChild(style);\n",
       "\n",
       "  vega.render(\"#\" + id, spec, type, opt, output_area);\n",
       "}, function (err) {\n",
       "  if (err.requireType !== \"scripterror\") {\n",
       "    throw(err);\n",
       "  }\n",
       "});\n"
      ],
      "text/plain": [
       "<vega.vegalite.VegaLite at 0x7f13b702c160>"
      ]
     },
     "metadata": {
      "jupyter-vega": "#d2d2c57f-e52c-4ca5-b03e-63d8ca9c15f9"
     },
     "output_type": "display_data"
    },
    {
     "data": {
      "text/plain": []
     },
     "execution_count": 20,
     "metadata": {},
     "output_type": "execute_result"
    },
    {
     "data": {
      "image/png": "[encoded data removed]"
     },
     "metadata": {
      "jupyter-vega": "#d2d2c57f-e52c-4ca5-b03e-63d8ca9c15f9"
     },
     "output_type": "display_data"
    }
   ],
   "source": [
    "# create grouped bar chart\n",
    "alt.Chart(data).mark_bar().encode(\n",
    "    alt.Y('value:Q'),\n",
    "    alt.X('category:N'),\n",
    "    alt.Color('category:N',scale=oi_scale),\n",
    "    alt.Column('item:N'),\n",
    "    tooltip=[\n",
    "        'value:Q', 'item:N'\n",
    "    ]\n",
    ").properties(\n",
    "    width=150,\n",
    "    height=150,\n",
    ")"
   ]
  },
  {
   "cell_type": "markdown",
   "metadata": {},
   "source": [
    "## Layered Bar Chart\n",
    "\n",
    "**Recommendation**: Use a layered bar chart if the focus is on the distribution of values in each category across all items. \n",
    "\n",
    "_Note that comparisons within each category are more accurate than in stacked bar charts due to common baseline for the values in each category._"
   ]
  },
  {
   "cell_type": "code",
   "execution_count": 21,
   "metadata": {},
   "outputs": [
    {
     "data": {
      "application/javascript": [
       "var spec = {\"config\": {\"view\": {\"width\": 400, \"height\": 300}, \"mark\": {\"tooltip\": null}}, \"data\": {\"values\": [{\"category\": \"A\", \"item\": \"1\", \"value\": \"6\"}, {\"category\": \"A\", \"item\": \"2\", \"value\": \"8\"}, {\"category\": \"A\", \"item\": \"3\", \"value\": \"12\"}, {\"category\": \"A\", \"item\": \"4\", \"value\": \"20\"}, {\"category\": \"A\", \"item\": \"5\", \"value\": \"22\"}, {\"category\": \"B\", \"item\": \"1\", \"value\": \"29\"}, {\"category\": \"B\", \"item\": \"2\", \"value\": \"27\"}, {\"category\": \"B\", \"item\": \"3\", \"value\": \"21\"}, {\"category\": \"B\", \"item\": \"4\", \"value\": \"18\"}, {\"category\": \"B\", \"item\": \"5\", \"value\": \"5\"}, {\"category\": \"C\", \"item\": \"1\", \"value\": \"18\"}, {\"category\": \"C\", \"item\": \"2\", \"value\": \"17\"}, {\"category\": \"C\", \"item\": \"3\", \"value\": \"16\"}, {\"category\": \"C\", \"item\": \"4\", \"value\": \"16\"}, {\"category\": \"C\", \"item\": \"5\", \"value\": \"15\"}, {\"category\": \"D\", \"item\": \"1\", \"value\": \"30\"}, {\"category\": \"D\", \"item\": \"2\", \"value\": \"12\"}, {\"category\": \"D\", \"item\": \"3\", \"value\": \"3\"}, {\"category\": \"D\", \"item\": \"4\", \"value\": \"9\"}, {\"category\": \"D\", \"item\": \"5\", \"value\": \"20\"}, {\"category\": \"E\", \"item\": \"1\", \"value\": \"7\"}, {\"category\": \"E\", \"item\": \"2\", \"value\": \"12\"}, {\"category\": \"E\", \"item\": \"3\", \"value\": \"19\"}, {\"category\": \"E\", \"item\": \"4\", \"value\": \"7\"}, {\"category\": \"E\", \"item\": \"5\", \"value\": \"1\"}]}, \"mark\": \"bar\", \"encoding\": {\"color\": {\"type\": \"nominal\", \"field\": \"category\", \"scale\": {\"domain\": [\"A\", \"B\", \"C\", \"D\", \"E\"], \"range\": [\"#0072B2\", \"#D55E00\", \"#009E73\", \"#CC79A7\", \"#E69F00\"]}}, \"column\": {\"type\": \"nominal\", \"field\": \"category\"}, \"tooltip\": [{\"type\": \"quantitative\", \"field\": \"value\"}, {\"type\": \"nominal\", \"field\": \"item\"}], \"x\": {\"type\": \"quantitative\", \"field\": \"value\"}, \"y\": {\"type\": \"nominal\", \"field\": \"item\"}}, \"height\": 150, \"title\": \"Chart Title\", \"width\": 150, \"$schema\": \"https://vega.github.io/schema/vega-lite/v3.3.0.json\"};\n",
       "var opt = {};\n",
       "var type = \"vega-lite\";\n",
       "var id = \"6a685db5-b409-4712-ace4-f3e9e1011db4\";\n",
       "\n",
       "var output_area = this;\n",
       "\n",
       "require([\"nbextensions/jupyter-vega/index\"], function(vega) {\n",
       "  var target = document.createElement(\"div\");\n",
       "  target.id = id;\n",
       "  target.className = \"vega-embed\";\n",
       "\n",
       "  var style = document.createElement(\"style\");\n",
       "  style.textContent = [\n",
       "    \".vega-embed .error p {\",\n",
       "    \"  color: firebrick;\",\n",
       "    \"  font-size: 14px;\",\n",
       "    \"}\",\n",
       "  ].join(\"\\\\n\");\n",
       "\n",
       "  // element is a jQuery wrapped DOM element inside the output area\n",
       "  // see http://ipython.readthedocs.io/en/stable/api/generated/\\\n",
       "  // IPython.display.html#IPython.display.Javascript.__init__\n",
       "  element[0].appendChild(target);\n",
       "  element[0].appendChild(style);\n",
       "\n",
       "  vega.render(\"#\" + id, spec, type, opt, output_area);\n",
       "}, function (err) {\n",
       "  if (err.requireType !== \"scripterror\") {\n",
       "    throw(err);\n",
       "  }\n",
       "});\n"
      ],
      "text/plain": [
       "<vega.vegalite.VegaLite at 0x7f13b72727f0>"
      ]
     },
     "metadata": {
      "jupyter-vega": "#6a685db5-b409-4712-ace4-f3e9e1011db4"
     },
     "output_type": "display_data"
    },
    {
     "data": {
      "text/plain": []
     },
     "execution_count": 21,
     "metadata": {},
     "output_type": "execute_result"
    },
    {
     "data": {
      "image/png": "[encoded data removed]"
     },
     "metadata": {
      "jupyter-vega": "#6a685db5-b409-4712-ace4-f3e9e1011db4"
     },
     "output_type": "display_data"
    }
   ],
   "source": [
    "# create layered bar chart\n",
    "alt.Chart(data).mark_bar().encode(\n",
    "    alt.Y('item:N'),\n",
    "    alt.X('value:Q'),\n",
    "    alt.Color('category:N',scale=oi_scale),\n",
    "    alt.Column('category:N'),\n",
    "    tooltip=[\n",
    "        'value:Q', 'item:N'\n",
    "    ]    \n",
    ").properties(\n",
    "    width=150,\n",
    "    height=150,\n",
    "    title=\"Chart Title\"\n",
    ")"
   ]
  },
  {
   "cell_type": "code",
   "execution_count": null,
   "metadata": {},
   "outputs": [],
   "source": []
  }
 ],
 "metadata": {
  "kernelspec": {
   "display_name": "Python 3",
   "language": "python",
   "name": "python3"
  },
  "language_info": {
   "codemirror_mode": {
    "name": "ipython",
    "version": 3
   },
   "file_extension": ".py",
   "mimetype": "text/x-python",
   "name": "python",
   "nbconvert_exporter": "python",
   "pygments_lexer": "ipython3",
   "version": "3.7.3"
  }
 },
 "nbformat": 4,
 "nbformat_minor": 2
}
