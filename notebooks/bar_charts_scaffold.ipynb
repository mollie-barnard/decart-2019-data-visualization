{
 "cells": [
  {
   "cell_type": "markdown",
   "metadata": {},
   "source": [
    "# First Steps in Altair: Stacked, Grouped, and Layered Bar Charts"
   ]
  },
  {
   "cell_type": "markdown",
   "metadata": {},
   "source": [
    "### Using _bar charts_ to visualize a simple data set with five items for which some quantity has been measured across five categories, requires careful consideration of the questions that the visualization should help answer.\n",
    "\n",
    "This notebook is based on [Streit & Gehlenborg, \"Points of View: Bar charts and box plots\", _Nature Methods_ **11**, 117 (2014)](https://www.nature.com/articles/nmeth.2807). Here we are demonstrating how to use [Altair](https://altair-viz.github.io/index.html) to re-create some of the figures from the paper."
   ]
  },
  {
   "cell_type": "code",
   "execution_count": 58,
   "metadata": {},
   "outputs": [],
   "source": [
    "import altair as alt\n",
    "\n",
    "# setup renderer for Jupyter Notebooks (not needed for Juptyer Lab)\n",
    "alt.renderers.enable('notebook')"
   ]
  },
  {
   "cell_type": "markdown",
   "metadata": {},
   "source": [
    "## Data Set\n",
    "\n",
    "This is an artificial data set that contains five items for which some quantity was measured in five categories. A real world data set with this structure could be for instance the number of users of Twitter, Facebook, YouTube, Snapchat, and Instagram in North America, South America, Europe, Africa, and Asia."
   ]
  },
  {
   "cell_type": "code",
   "execution_count": 80,
   "metadata": {},
   "outputs": [],
   "source": [
    "# generate data table used in https://www.nature.com/articles/nmeth.2807\n",
    "data = alt.Data(values = [{ 'category': 'A', 'item': '1', 'value': '6' },\n",
    "                          { 'category': 'A', 'item': '2', 'value': '8' },\n",
    "                          { 'category': 'A', 'item': '3', 'value': '12' },\n",
    "                          { 'category': 'A', 'item': '4', 'value': '20' },\n",
    "                          { 'category': 'A', 'item': '5', 'value': '22' },\n",
    "                          { 'category': 'B', 'item': '1', 'value': '29' },\n",
    "                          { 'category': 'B', 'item': '2', 'value': '27' },\n",
    "                          { 'category': 'B', 'item': '3', 'value': '21' },\n",
    "                          { 'category': 'B', 'item': '4', 'value': '18' },\n",
    "                          { 'category': 'B', 'item': '5', 'value': '5' },\n",
    "                          { 'category': 'C', 'item': '1', 'value': '18' },\n",
    "                          { 'category': 'C', 'item': '2', 'value': '17' },\n",
    "                          { 'category': 'C', 'item': '3', 'value': '16' },\n",
    "                          { 'category': 'C', 'item': '4', 'value': '16' },\n",
    "                          { 'category': 'C', 'item': '5', 'value': '15' },\n",
    "                          { 'category': 'D', 'item': '1', 'value': '30' },\n",
    "                          { 'category': 'D', 'item': '2', 'value': '12' },\n",
    "                          { 'category': 'D', 'item': '3', 'value': '3' },\n",
    "                          { 'category': 'D', 'item': '4', 'value': '9' },\n",
    "                          { 'category': 'D', 'item': '5', 'value': '20' },\n",
    "                          { 'category': 'E', 'item': '1', 'value': '7' },\n",
    "                          { 'category': 'E', 'item': '2', 'value': '12' },\n",
    "                          { 'category': 'E', 'item': '3', 'value': '19' },\n",
    "                          { 'category': 'E', 'item': '4', 'value': '7' },\n",
    "                          { 'category': 'E', 'item': '5', 'value': '1' }\n",
    "                         ])"
   ]
  },
  {
   "cell_type": "markdown",
   "metadata": {},
   "source": [
    "## Data Table\n",
    "\n",
    "An example how we can use Altair to render our data as a table."
   ]
  },
  {
   "cell_type": "code",
   "execution_count": 82,
   "metadata": {},
   "outputs": [
    {
     "data": {
      "application/vnd.vegalite.v2+json": {
       "$schema": "https://vega.github.io/schema/vega-lite/v2.4.3.json",
       "config": {
        "view": {
         "height": 300,
         "width": 400
        }
       },
       "data": {
        "values": [
         {
          "category": "A",
          "item": "1",
          "value": "6"
         },
         {
          "category": "A",
          "item": "2",
          "value": "8"
         },
         {
          "category": "A",
          "item": "3",
          "value": "12"
         },
         {
          "category": "A",
          "item": "4",
          "value": "20"
         },
         {
          "category": "A",
          "item": "5",
          "value": "22"
         },
         {
          "category": "B",
          "item": "1",
          "value": "29"
         },
         {
          "category": "B",
          "item": "2",
          "value": "27"
         },
         {
          "category": "B",
          "item": "3",
          "value": "21"
         },
         {
          "category": "B",
          "item": "4",
          "value": "18"
         },
         {
          "category": "B",
          "item": "5",
          "value": "5"
         },
         {
          "category": "C",
          "item": "1",
          "value": "18"
         },
         {
          "category": "C",
          "item": "2",
          "value": "17"
         },
         {
          "category": "C",
          "item": "3",
          "value": "16"
         },
         {
          "category": "C",
          "item": "4",
          "value": "16"
         },
         {
          "category": "C",
          "item": "5",
          "value": "15"
         },
         {
          "category": "D",
          "item": "1",
          "value": "30"
         },
         {
          "category": "D",
          "item": "2",
          "value": "12"
         },
         {
          "category": "D",
          "item": "3",
          "value": "3"
         },
         {
          "category": "D",
          "item": "4",
          "value": "9"
         },
         {
          "category": "D",
          "item": "5",
          "value": "20"
         },
         {
          "category": "E",
          "item": "1",
          "value": "7"
         },
         {
          "category": "E",
          "item": "2",
          "value": "12"
         },
         {
          "category": "E",
          "item": "3",
          "value": "19"
         },
         {
          "category": "E",
          "item": "4",
          "value": "7"
         },
         {
          "category": "E",
          "item": "5",
          "value": "1"
         }
        ]
       },
       "encoding": {
        "column": {
         "field": "item",
         "type": "nominal"
        },
        "row": {
         "field": "category",
         "type": "nominal"
        },
        "text": {
         "field": "value",
         "type": "quantitative"
        }
       },
       "mark": "text"
      },
      "image/png": "[encoded data removed]",
      "text/plain": [
       "<VegaLite 2 object>\n",
       "\n",
       "If you see this message, it means the renderer has not been properly enabled\n",
       "for the frontend that you are using. For more information, see\n",
       "https://altair-viz.github.io/user_guide/troubleshooting.html\n"
      ]
     },
     "execution_count": 82,
     "metadata": {},
     "output_type": "execute_result"
    }
   ],
   "source": [
    "alt.Chart(data).mark_text().encode(\n",
    "    alt.Row('category:N'),\n",
    "    alt.Column('item:N'),\n",
    "    alt.Text('value:Q')\n",
    ")"
   ]
  },
  {
   "cell_type": "markdown",
   "metadata": {},
   "source": [
    "## Color Palette\n",
    "\n",
    "We will be using colors from a [color palette by Okabe & Ito](http://jfly.iam.u-tokyo.ac.jp/color/) that was designed to accommodate different types of color blindness. Select colors from the palette are mapped to the categories. [Mike Mol](https://www.twitter.com/mikemol) provides the color values in [various representations](https://mikemol.github.io/technique/colorblind/2018/02/11/color-safe-palette.html)."
   ]
  },
  {
   "cell_type": "code",
   "execution_count": 60,
   "metadata": {},
   "outputs": [],
   "source": [
    "# map categories to colors from the Okabe & Ito color palette (http://jfly.iam.u-tokyo.ac.jp/color/)\n",
    "oi_scale = alt.Scale(domain=['A', 'B', 'C', 'D', 'E'],\n",
    "                  range=['#0072B2', '#D55E00', '#009E73', '#CC79A7', '#E69F00'])"
   ]
  },
  {
   "cell_type": "markdown",
   "metadata": {},
   "source": [
    "## Stacked Bar Chart\n",
    "\n",
    "**Recommendation**: Use a stacked bar chart if the focus is on comparing the overall quantities across items but you also need to illustrate contributions of each category to the total."
   ]
  },
  {
   "cell_type": "code",
   "execution_count": 83,
   "metadata": {},
   "outputs": [],
   "source": [
    "# create stacked bar chart"
   ]
  },
  {
   "cell_type": "markdown",
   "metadata": {},
   "source": [
    "## Grouped Bar Chart\n",
    "\n",
    "**Recommendation**: Use a grouped bar chart if the focus is on comparison of values across categories within each item, while still enabling comparisons across items.\n",
    "\n",
    "_Note that if quantities add up to the same total for each item, then a grouped bar chart is equivalent to multiple pie charts, yet a grouped bar chart affords more accurate readings of values and comparisons._"
   ]
  },
  {
   "cell_type": "code",
   "execution_count": 84,
   "metadata": {},
   "outputs": [],
   "source": [
    "# create grouped bar chart"
   ]
  },
  {
   "cell_type": "markdown",
   "metadata": {},
   "source": [
    "## Layered Bar Chart\n",
    "\n",
    "**Recommendation**: Use a layered bar chart if the focus is on the distribution of values in each category across all items. \n",
    "\n",
    "_Note that comparisons within each category are more accurate than in stacked bar charts due to common baseline for the values in each category._"
   ]
  },
  {
   "cell_type": "code",
   "execution_count": 85,
   "metadata": {},
   "outputs": [],
   "source": [
    "# create layered bar chart"
   ]
  },
  {
   "cell_type": "code",
   "execution_count": null,
   "metadata": {},
   "outputs": [],
   "source": []
  }
 ],
 "metadata": {
  "kernelspec": {
   "display_name": "Python 3",
   "language": "python",
   "name": "python3"
  },
  "language_info": {
   "codemirror_mode": {
    "name": "ipython",
    "version": 3
   },
   "file_extension": ".py",
   "mimetype": "text/x-python",
   "name": "python",
   "nbconvert_exporter": "python",
   "pygments_lexer": "ipython3",
   "version": "3.5.5"
  }
 },
 "nbformat": 4,
 "nbformat_minor": 2
}
